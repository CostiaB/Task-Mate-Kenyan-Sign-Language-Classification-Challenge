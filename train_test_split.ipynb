{
 "cells": [
  {
   "cell_type": "code",
   "execution_count": null,
   "metadata": {},
   "outputs": [],
   "source": [
    "import os"
   ]
  },
  {
   "cell_type": "code",
   "execution_count": null,
   "metadata": {},
   "outputs": [],
   "source": [
    "from google.colab import drive\n",
    "drive.mount('/content/drive')"
   ]
  },
  {
   "cell_type": "code",
   "execution_count": null,
   "metadata": {},
   "outputs": [],
   "source": [
    "path_start = \"/content/drive/MyDrive/\" "
   ]
  },
  {
   "cell_type": "code",
   "execution_count": null,
   "metadata": {},
   "outputs": [],
   "source": [
    "path = os.path.join(path_start,\"Zindi_signs/Images/Images/\")\n",
    "path_train = os.path.join(path_start,\"Zindi_signs/img/train/\")\n",
    "path_test = os.path.join(path_start,\"Zindi_signs/img/test/\")\n",
    "paths = [path_train,path_test]"
   ]
  },
  {
   "cell_type": "markdown",
   "metadata": {},
   "source": [
    "## Split images to train and test folders"
   ]
  },
  {
   "cell_type": "code",
   "execution_count": null,
   "metadata": {},
   "outputs": [],
   "source": [
    "#make train and test folder\n",
    "for folder in paths:\n",
    "    directory = os.path.isdir(folder)\n",
    "    if not directory:\n",
    "        os.makedirs(folder)\n",
    "        print(\"created folder : \", folder)\n",
    "    else:\n",
    "        print(directory, \"folder already exists.\")"
   ]
  },
  {
   "cell_type": "code",
   "execution_count": null,
   "metadata": {},
   "outputs": [],
   "source": [
    "#move files to train and test folders\n",
    "for img in train.img_IDS:\n",
    "    path_old = os.path.join(path, img + \".jpg\")\n",
    "    path_new = os.path.join(path_train, img + \".jpg\")\n",
    "    os.replace(path_old,path_new)\n",
    "    \n",
    "for img in test.img_IDS:\n",
    "    path_old = os.path.join(path, img + \".jpg\")\n",
    "    path_new = os.path.join(path_test, img + \".jpg\")\n",
    "    os.replace(path_old,path_new)"
   ]
  }
 ],
 "metadata": {
  "kernelspec": {
   "display_name": "Python 3 (ipykernel)",
   "language": "python",
   "name": "python3"
  },
  "language_info": {
   "codemirror_mode": {
    "name": "ipython",
    "version": 3
   },
   "file_extension": ".py",
   "mimetype": "text/x-python",
   "name": "python",
   "nbconvert_exporter": "python",
   "pygments_lexer": "ipython3",
   "version": "3.8.11"
  }
 },
 "nbformat": 4,
 "nbformat_minor": 2
}
